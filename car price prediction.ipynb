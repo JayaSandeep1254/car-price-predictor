{
 "cells": [
  {
   "cell_type": "code",
   "execution_count": 68,
   "metadata": {
    "ExecuteTime": {
     "end_time": "2021-10-14T16:40:16.776243Z",
     "start_time": "2021-10-14T16:40:16.768133Z"
    }
   },
   "outputs": [],
   "source": [
    "import pandas as pd\n",
    "import matplotlib.pyplot as plt\n",
    "import seaborn as sns\n",
    "import numpy as np\n",
    "from sklearn.preprocessing import LabelEncoder\n",
    "from sklearn import metrics\n",
    "from sklearn.metrics import r2_score"
   ]
  },
  {
   "cell_type": "code",
   "execution_count": 69,
   "metadata": {
    "ExecuteTime": {
     "end_time": "2021-10-14T16:40:16.987090Z",
     "start_time": "2021-10-14T16:40:16.955092Z"
    }
   },
   "outputs": [],
   "source": [
    "df = pd.read_csv('car data.csv')"
   ]
  },
  {
   "cell_type": "code",
   "execution_count": 3,
   "metadata": {
    "ExecuteTime": {
     "end_time": "2021-10-14T16:05:13.266503Z",
     "start_time": "2021-10-14T16:05:13.218503Z"
    }
   },
   "outputs": [
    {
     "data": {
      "text/html": [
       "<div>\n",
       "<style scoped>\n",
       "    .dataframe tbody tr th:only-of-type {\n",
       "        vertical-align: middle;\n",
       "    }\n",
       "\n",
       "    .dataframe tbody tr th {\n",
       "        vertical-align: top;\n",
       "    }\n",
       "\n",
       "    .dataframe thead th {\n",
       "        text-align: right;\n",
       "    }\n",
       "</style>\n",
       "<table border=\"1\" class=\"dataframe\">\n",
       "  <thead>\n",
       "    <tr style=\"text-align: right;\">\n",
       "      <th></th>\n",
       "      <th>Car_Name</th>\n",
       "      <th>Year</th>\n",
       "      <th>Selling_Price</th>\n",
       "      <th>Present_Price</th>\n",
       "      <th>Kms_Driven</th>\n",
       "      <th>Fuel_Type</th>\n",
       "      <th>Seller_Type</th>\n",
       "      <th>Transmission</th>\n",
       "      <th>Owner</th>\n",
       "    </tr>\n",
       "  </thead>\n",
       "  <tbody>\n",
       "    <tr>\n",
       "      <th>0</th>\n",
       "      <td>ritz</td>\n",
       "      <td>2014</td>\n",
       "      <td>3.35</td>\n",
       "      <td>5.59</td>\n",
       "      <td>27000</td>\n",
       "      <td>Petrol</td>\n",
       "      <td>Dealer</td>\n",
       "      <td>Manual</td>\n",
       "      <td>0</td>\n",
       "    </tr>\n",
       "    <tr>\n",
       "      <th>1</th>\n",
       "      <td>sx4</td>\n",
       "      <td>2013</td>\n",
       "      <td>4.75</td>\n",
       "      <td>9.54</td>\n",
       "      <td>43000</td>\n",
       "      <td>Diesel</td>\n",
       "      <td>Dealer</td>\n",
       "      <td>Manual</td>\n",
       "      <td>0</td>\n",
       "    </tr>\n",
       "    <tr>\n",
       "      <th>2</th>\n",
       "      <td>ciaz</td>\n",
       "      <td>2017</td>\n",
       "      <td>7.25</td>\n",
       "      <td>9.85</td>\n",
       "      <td>6900</td>\n",
       "      <td>Petrol</td>\n",
       "      <td>Dealer</td>\n",
       "      <td>Manual</td>\n",
       "      <td>0</td>\n",
       "    </tr>\n",
       "    <tr>\n",
       "      <th>3</th>\n",
       "      <td>wagon r</td>\n",
       "      <td>2011</td>\n",
       "      <td>2.85</td>\n",
       "      <td>4.15</td>\n",
       "      <td>5200</td>\n",
       "      <td>Petrol</td>\n",
       "      <td>Dealer</td>\n",
       "      <td>Manual</td>\n",
       "      <td>0</td>\n",
       "    </tr>\n",
       "    <tr>\n",
       "      <th>4</th>\n",
       "      <td>swift</td>\n",
       "      <td>2014</td>\n",
       "      <td>4.60</td>\n",
       "      <td>6.87</td>\n",
       "      <td>42450</td>\n",
       "      <td>Diesel</td>\n",
       "      <td>Dealer</td>\n",
       "      <td>Manual</td>\n",
       "      <td>0</td>\n",
       "    </tr>\n",
       "  </tbody>\n",
       "</table>\n",
       "</div>"
      ],
      "text/plain": [
       "  Car_Name  Year  Selling_Price  Present_Price  Kms_Driven Fuel_Type  \\\n",
       "0     ritz  2014           3.35           5.59       27000    Petrol   \n",
       "1      sx4  2013           4.75           9.54       43000    Diesel   \n",
       "2     ciaz  2017           7.25           9.85        6900    Petrol   \n",
       "3  wagon r  2011           2.85           4.15        5200    Petrol   \n",
       "4    swift  2014           4.60           6.87       42450    Diesel   \n",
       "\n",
       "  Seller_Type Transmission  Owner  \n",
       "0      Dealer       Manual      0  \n",
       "1      Dealer       Manual      0  \n",
       "2      Dealer       Manual      0  \n",
       "3      Dealer       Manual      0  \n",
       "4      Dealer       Manual      0  "
      ]
     },
     "execution_count": 3,
     "metadata": {},
     "output_type": "execute_result"
    }
   ],
   "source": [
    "df.head()"
   ]
  },
  {
   "cell_type": "code",
   "execution_count": 6,
   "metadata": {
    "ExecuteTime": {
     "end_time": "2021-10-14T16:05:57.181425Z",
     "start_time": "2021-10-14T16:05:57.165388Z"
    }
   },
   "outputs": [],
   "source": [
    "categorical = ['Car_Name','Fuel_Type','Seller_Type','Transmission']\n",
    "encodings = []"
   ]
  },
  {
   "cell_type": "code",
   "execution_count": 7,
   "metadata": {
    "ExecuteTime": {
     "end_time": "2021-10-14T16:05:57.752414Z",
     "start_time": "2021-10-14T16:05:57.736414Z"
    }
   },
   "outputs": [],
   "source": [
    "for feature in categorical:\n",
    "    le = LabelEncoder()\n",
    "    encoding = le.fit_transform(df[feature])\n",
    "    encodings.append(dict(zip(list(df[feature]),encoding)))\n",
    "    df[feature] = encoding"
   ]
  },
  {
   "cell_type": "code",
   "execution_count": 10,
   "metadata": {
    "ExecuteTime": {
     "end_time": "2021-10-14T16:06:56.126627Z",
     "start_time": "2021-10-14T16:06:56.054062Z"
    }
   },
   "outputs": [],
   "source": [
    "y = df['Selling_Price']\n",
    "df = df.drop(['Selling_Price'], axis=1)"
   ]
  },
  {
   "cell_type": "code",
   "execution_count": 12,
   "metadata": {
    "ExecuteTime": {
     "end_time": "2021-10-14T16:07:11.009945Z",
     "start_time": "2021-10-14T16:07:11.001935Z"
    }
   },
   "outputs": [],
   "source": [
    "X = df.to_numpy() \n",
    "y = y.to_numpy()"
   ]
  },
  {
   "cell_type": "code",
   "execution_count": 23,
   "metadata": {
    "ExecuteTime": {
     "end_time": "2021-10-14T16:08:23.847819Z",
     "start_time": "2021-10-14T16:08:23.823818Z"
    }
   },
   "outputs": [
    {
     "data": {
      "text/plain": [
       "((301, 8), (301,))"
      ]
     },
     "execution_count": 23,
     "metadata": {},
     "output_type": "execute_result"
    }
   ],
   "source": [
    "X.shape, y.shape"
   ]
  },
  {
   "cell_type": "code",
   "execution_count": 39,
   "metadata": {
    "ExecuteTime": {
     "end_time": "2021-10-14T16:12:11.773440Z",
     "start_time": "2021-10-14T16:12:11.749408Z"
    }
   },
   "outputs": [],
   "source": [
    "mu = X.mean(0) \n",
    "sigma = X.std(0) # standard deviation: max(x)-min(x)\n",
    "xn = (X - mu) / sigma"
   ]
  },
  {
   "cell_type": "code",
   "execution_count": 40,
   "metadata": {
    "ExecuteTime": {
     "end_time": "2021-10-14T16:12:18.828696Z",
     "start_time": "2021-10-14T16:12:18.796657Z"
    }
   },
   "outputs": [],
   "source": [
    "class LinearRegression:\n",
    "    '''\n",
    "    A class which implements linear regression model with gradient descent.\n",
    "    '''\n",
    "    def __init__(self, learning_rate=0.01, n_iterations=1000):\n",
    "        self.learning_rate = learning_rate\n",
    "        self.n_iterations = n_iterations\n",
    "        self.weights, self.bias = None, None\n",
    "        self.loss = []\n",
    "        \n",
    "    @staticmethod\n",
    "    def _mean_squared_error(y, y_hat):\n",
    "        '''\n",
    "        Private method, used to evaluate loss at each iteration.\n",
    "        \n",
    "        :param: y - array, true values\n",
    "        :param: y_hat - array, predicted values\n",
    "        :return: float\n",
    "        '''\n",
    "        error = 0\n",
    "        for i in range(len(y)):\n",
    "            error += (y[i] - y_hat[i]) ** 2\n",
    "        return error / len(y)\n",
    "    \n",
    "    def fit(self, X, y):\n",
    "        '''\n",
    "        Used to calculate the coefficient of the linear regression model.\n",
    "        \n",
    "        :param X: array, features\n",
    "        :param y: array, true values\n",
    "        :return: None\n",
    "        '''\n",
    "        # 1. Initialize weights and bias to zeros\n",
    "        self.weights = np.zeros(X.shape[1])\n",
    "        self.bias = 0\n",
    "        \n",
    "        # 2. Perform gradient descent\n",
    "        for i in range(self.n_iterations):\n",
    "            # Line equation\n",
    "            y_hat = np.dot(X, self.weights) + self.bias\n",
    "            loss = self._mean_squared_error(y, y_hat)\n",
    "            self.loss.append(loss)\n",
    "            \n",
    "            # Calculate derivatives\n",
    "            partial_w = (1 / X.shape[0]) * (2 * np.dot(X.T, (y_hat - y)))\n",
    "            partial_d = (1 / X.shape[0]) * (2 * np.sum(y_hat - y))\n",
    "            \n",
    "            # Update the coefficients\n",
    "            self.weights -= self.learning_rate * partial_w\n",
    "            self.bias -= self.learning_rate * partial_d\n",
    "        \n",
    "        \n",
    "    def predict(self, X):\n",
    "        '''\n",
    "        Makes predictions using the line equation.\n",
    "        \n",
    "        :param X: array, features\n",
    "        :return: array, predictions\n",
    "        '''\n",
    "        return np.dot(X, self.weights) + self.bias"
   ]
  },
  {
   "cell_type": "code",
   "execution_count": 41,
   "metadata": {
    "ExecuteTime": {
     "end_time": "2021-10-14T16:12:24.365054Z",
     "start_time": "2021-10-14T16:12:23.992853Z"
    }
   },
   "outputs": [],
   "source": [
    "model = LinearRegression()\n",
    "model.fit(xn,y)"
   ]
  },
  {
   "cell_type": "code",
   "execution_count": 42,
   "metadata": {
    "ExecuteTime": {
     "end_time": "2021-10-14T16:12:26.282553Z",
     "start_time": "2021-10-14T16:12:25.967132Z"
    }
   },
   "outputs": [
    {
     "data": {
      "image/png": "[encoded data removed]",
      "text/plain": [
       "<Figure size 432x288 with 1 Axes>"
      ]
     },
     "metadata": {
      "needs_background": "light"
     },
     "output_type": "display_data"
    }
   ],
   "source": [
    "xs = np.arange(len(model.loss))\n",
    "ys = model.loss\n",
    "\n",
    "plt.plot(xs, ys, lw=3, c='#087E8B')\n",
    "plt.title('Loss per iteration (MSE)', size=20)\n",
    "plt.xlabel('Iteration', size=14)\n",
    "plt.ylabel('Loss', size=14)\n",
    "plt.show()"
   ]
  },
  {
   "cell_type": "code",
   "execution_count": 43,
   "metadata": {
    "ExecuteTime": {
     "end_time": "2021-10-14T16:13:30.728091Z",
     "start_time": "2021-10-14T16:13:30.708437Z"
    }
   },
   "outputs": [
    {
     "data": {
      "text/plain": [
       "0.8785587234589181"
      ]
     },
     "execution_count": 43,
     "metadata": {},
     "output_type": "execute_result"
    }
   ],
   "source": [
    "y_pred = model.predict(xn)\n",
    "r2_score(y,y_pred)"
   ]
  },
  {
   "cell_type": "code",
   "execution_count": 44,
   "metadata": {
    "ExecuteTime": {
     "end_time": "2021-10-14T16:13:36.010475Z",
     "start_time": "2021-10-14T16:13:36.002456Z"
    }
   },
   "outputs": [],
   "source": [
    "import pickle"
   ]
  },
  {
   "cell_type": "code",
   "execution_count": 54,
   "metadata": {
    "ExecuteTime": {
     "end_time": "2021-10-14T16:16:56.040525Z",
     "start_time": "2021-10-14T16:16:56.024484Z"
    }
   },
   "outputs": [],
   "source": [
    "LR = {'weights': model.weights,\n",
    "      'bias': model.bias,\n",
    "     'mean': mu,\n",
    "     'std': sigma}\n",
    "\n",
    "for i,j in enumerate(categorical):\n",
    "    LR[j] = encodings[i]"
   ]
  },
  {
   "cell_type": "code",
   "execution_count": 56,
   "metadata": {
    "ExecuteTime": {
     "end_time": "2021-10-14T16:17:14.806662Z",
     "start_time": "2021-10-14T16:17:14.782631Z"
    }
   },
   "outputs": [],
   "source": [
    "pickle.dump(LR, open('LR.pkl','wb'))"
   ]
  },
  {
   "cell_type": "code",
   "execution_count": 57,
   "metadata": {
    "ExecuteTime": {
     "end_time": "2021-10-14T16:17:15.584254Z",
     "start_time": "2021-10-14T16:17:15.568253Z"
    }
   },
   "outputs": [],
   "source": [
    "temp = pickle.load(open('LR.pkl','rb'))"
   ]
  },
  {
   "cell_type": "code",
   "execution_count": 58,
   "metadata": {
    "ExecuteTime": {
     "end_time": "2021-10-14T16:17:16.021224Z",
     "start_time": "2021-10-14T16:17:15.997167Z"
    }
   },
   "outputs": [
    {
     "data": {
      "text/plain": [
       "{'weights': array([-0.05427463,  1.16341398,  3.85123529, -0.2510841 , -0.63976693,\n",
       "        -0.56924376, -0.48551245, -0.16753795]),\n",
       " 'bias': 4.661295673218347,\n",
       " 'mean': array([6.25714286e+01, 2.01362791e+03, 7.62847176e+00, 3.69472060e+04,\n",
       "        1.78737542e+00, 3.52159468e-01, 8.67109635e-01, 4.31893688e-02]),\n",
       " 'std': array([2.55310191e+01, 2.88674689e+00, 8.62974446e+00, 3.88222340e+04,\n",
       "        4.25093410e-01, 4.77643358e-01, 3.39456207e-01, 2.47502731e-01]),\n",
       " 'Car_Name': {'ritz': 90,\n",
       "  'sx4': 93,\n",
       "  'ciaz': 68,\n",
       "  'wagon r': 96,\n",
       "  'swift': 92,\n",
       "  'vitara brezza': 95,\n",
       "  's cross': 91,\n",
       "  'alto 800': 62,\n",
       "  'ertiga': 76,\n",
       "  'dzire': 73,\n",
       "  'alto k10': 63,\n",
       "  'ignis': 85,\n",
       "  '800': 0,\n",
       "  'baleno': 65,\n",
       "  'omni': 89,\n",
       "  'fortuner': 81,\n",
       "  'innova': 86,\n",
       "  'corolla altis': 71,\n",
       "  'etios cross': 77,\n",
       "  'etios g': 78,\n",
       "  'etios liva': 80,\n",
       "  'corolla': 70,\n",
       "  'etios gd': 79,\n",
       "  'camry': 67,\n",
       "  'land cruiser': 88,\n",
       "  'Royal Enfield Thunder 500': 49,\n",
       "  'UM Renegade Mojave': 56,\n",
       "  'KTM RC200': 42,\n",
       "  'Bajaj Dominar 400': 11,\n",
       "  'Royal Enfield Classic 350': 46,\n",
       "  'KTM RC390': 43,\n",
       "  'Hyosung GT250R': 40,\n",
       "  'Royal Enfield Thunder 350': 48,\n",
       "  'KTM 390 Duke ': 41,\n",
       "  'Mahindra Mojo XT300': 44,\n",
       "  'Bajaj Pulsar RS200': 17,\n",
       "  'Royal Enfield Bullet 350': 45,\n",
       "  'Royal Enfield Classic 500': 47,\n",
       "  'Bajaj Avenger 220': 6,\n",
       "  'Bajaj Avenger 150': 4,\n",
       "  'Honda CB Hornet 160R': 32,\n",
       "  'Yamaha FZ S V 2.0': 60,\n",
       "  'Yamaha FZ 16': 58,\n",
       "  'TVS Apache RTR 160': 51,\n",
       "  'Bajaj Pulsar 150': 14,\n",
       "  'Honda CBR 150': 37,\n",
       "  'Hero Extreme': 20,\n",
       "  'Bajaj Avenger 220 dtsi': 7,\n",
       "  'Bajaj Avenger 150 street': 5,\n",
       "  'Yamaha FZ  v 2.0': 57,\n",
       "  'Bajaj Pulsar  NS 200': 12,\n",
       "  'Bajaj Pulsar 220 F': 15,\n",
       "  'TVS Apache RTR 180': 52,\n",
       "  'Hero Passion X pro': 26,\n",
       "  'Bajaj Pulsar NS 200': 16,\n",
       "  'Yamaha Fazer ': 61,\n",
       "  'Honda Activa 4G': 31,\n",
       "  'TVS Sport ': 54,\n",
       "  'Honda Dream Yuga ': 38,\n",
       "  'Bajaj Avenger Street 220': 8,\n",
       "  'Hero Splender iSmart': 28,\n",
       "  'Activa 3g': 1,\n",
       "  'Hero Passion Pro': 25,\n",
       "  'Honda CB Trigger': 34,\n",
       "  'Yamaha FZ S ': 59,\n",
       "  'Bajaj Pulsar 135 LS': 13,\n",
       "  'Activa 4g': 2,\n",
       "  'Honda CB Unicorn': 35,\n",
       "  'Hero Honda CBZ extreme': 22,\n",
       "  'Honda Karizma': 39,\n",
       "  'Honda Activa 125': 30,\n",
       "  'TVS Jupyter': 53,\n",
       "  'Hero Honda Passion Pro': 23,\n",
       "  'Hero Splender Plus': 27,\n",
       "  'Honda CB Shine': 33,\n",
       "  'Bajaj Discover 100': 9,\n",
       "  'Suzuki Access 125': 50,\n",
       "  'TVS Wego': 55,\n",
       "  'Honda CB twister': 36,\n",
       "  'Hero Glamour': 21,\n",
       "  'Hero Super Splendor': 29,\n",
       "  'Bajaj Discover 125': 10,\n",
       "  'Hero Hunk': 24,\n",
       "  'Hero  Ignitor Disc': 19,\n",
       "  'Hero  CBZ Xtreme': 18,\n",
       "  'Bajaj  ct 100': 3,\n",
       "  'i20': 84,\n",
       "  'grand i10': 82,\n",
       "  'i10': 83,\n",
       "  'eon': 75,\n",
       "  'xcent': 97,\n",
       "  'elantra': 74,\n",
       "  'creta': 72,\n",
       "  'verna': 94,\n",
       "  'city': 69,\n",
       "  'brio': 66,\n",
       "  'amaze': 64,\n",
       "  'jazz': 87},\n",
       " 'Fuel_Type': {'Petrol': 2, 'Diesel': 1, 'CNG': 0},\n",
       " 'Seller_Type': {'Dealer': 0, 'Individual': 1},\n",
       " 'Transmission': {'Manual': 1, 'Automatic': 0}}"
      ]
     },
     "execution_count": 58,
     "metadata": {},
     "output_type": "execute_result"
    }
   ],
   "source": [
    "temp"
   ]
  },
  {
   "cell_type": "code",
   "execution_count": 73,
   "metadata": {
    "ExecuteTime": {
     "end_time": "2021-10-14T16:52:52.232744Z",
     "start_time": "2021-10-14T16:52:52.216707Z"
    }
   },
   "outputs": [
    {
     "data": {
      "text/plain": [
       "(0.32,\n",
       " 0.47,\n",
       " 0.48,\n",
       " 0.51,\n",
       " 0.52,\n",
       " 0.54,\n",
       " 0.55,\n",
       " 0.57,\n",
       " 0.58,\n",
       " 0.64,\n",
       " 0.65,\n",
       " 0.72,\n",
       " 0.73,\n",
       " 0.74,\n",
       " 0.75,\n",
       " 0.787,\n",
       " 0.8,\n",
       " 0.81,\n",
       " 0.82,\n",
       " 0.826,\n",
       " 0.83,\n",
       " 0.84,\n",
       " 0.87,\n",
       " 0.88,\n",
       " 0.94,\n",
       " 0.95,\n",
       " 0.99,\n",
       " 1.05,\n",
       " 1.17,\n",
       " 1.2,\n",
       " 1.26,\n",
       " 1.4,\n",
       " 1.47,\n",
       " 1.5,\n",
       " 1.6,\n",
       " 1.75,\n",
       " 1.78,\n",
       " 1.82,\n",
       " 1.9,\n",
       " 2.28,\n",
       " 2.37,\n",
       " 2.4,\n",
       " 2.69,\n",
       " 3.45,\n",
       " 3.46,\n",
       " 3.6,\n",
       " 3.76,\n",
       " 3.95,\n",
       " 3.98,\n",
       " 4.15,\n",
       " 4.41,\n",
       " 4.43,\n",
       " 4.6,\n",
       " 4.89,\n",
       " 4.99,\n",
       " 5.09,\n",
       " 5.35,\n",
       " 5.59,\n",
       " 5.7,\n",
       " 5.71,\n",
       " 5.8,\n",
       " 5.87,\n",
       " 5.9,\n",
       " 5.97,\n",
       " 5.98,\n",
       " 6.05,\n",
       " 6.1,\n",
       " 6.4,\n",
       " 6.49,\n",
       " 6.76,\n",
       " 6.79,\n",
       " 6.8,\n",
       " 6.82,\n",
       " 6.87,\n",
       " 6.95,\n",
       " 7.0,\n",
       " 7.13,\n",
       " 7.15,\n",
       " 7.2,\n",
       " 7.21,\n",
       " 7.27,\n",
       " 7.49,\n",
       " 7.5,\n",
       " 7.6,\n",
       " 7.7,\n",
       " 7.71,\n",
       " 7.74,\n",
       " 7.85,\n",
       " 7.87,\n",
       " 7.9,\n",
       " 7.98,\n",
       " 8.01,\n",
       " 8.06,\n",
       " 8.1,\n",
       " 8.12,\n",
       " 8.4,\n",
       " 8.5,\n",
       " 8.61,\n",
       " 8.7,\n",
       " 8.89,\n",
       " 8.92,\n",
       " 8.93,\n",
       " 9.29,\n",
       " 9.4,\n",
       " 9.54,\n",
       " 9.83,\n",
       " 9.85,\n",
       " 9.9,\n",
       " 9.94,\n",
       " 9.95,\n",
       " 10.0,\n",
       " 10.21,\n",
       " 10.38,\n",
       " 10.79,\n",
       " 11.0,\n",
       " 11.6,\n",
       " 11.8,\n",
       " 12.04,\n",
       " 12.35,\n",
       " 12.48,\n",
       " 12.5,\n",
       " 13.09,\n",
       " 13.46,\n",
       " 13.6,\n",
       " 13.7,\n",
       " 13.74,\n",
       " 14.0,\n",
       " 14.68,\n",
       " 14.79,\n",
       " 14.89,\n",
       " 15.04,\n",
       " 16.09,\n",
       " 18.54,\n",
       " 18.61,\n",
       " 18.64,\n",
       " 19.77,\n",
       " 20.45,\n",
       " 20.91,\n",
       " 22.78,\n",
       " 22.83,\n",
       " 23.15,\n",
       " 23.73,\n",
       " 25.39,\n",
       " 30.61,\n",
       " 35.96,\n",
       " 36.23,\n",
       " 92.6)"
      ]
     },
     "execution_count": 73,
     "metadata": {},
     "output_type": "execute_result"
    }
   ],
   "source": [
    "tuple(df['Present_Price'].sort_values().unique())"
   ]
  },
  {
   "cell_type": "code",
   "execution_count": null,
   "metadata": {},
   "outputs": [],
   "source": []
  }
 ],
 "metadata": {
  "kernelspec": {
   "display_name": "Python 3",
   "language": "python",
   "name": "python3"
  },
  "language_info": {
   "codemirror_mode": {
    "name": "ipython",
    "version": 3
   },
   "file_extension": ".py",
   "mimetype": "text/x-python",
   "name": "python",
   "nbconvert_exporter": "python",
   "pygments_lexer": "ipython3",
   "version": "3.7.7"
  },
  "toc": {
   "base_numbering": 1,
   "nav_menu": {},
   "number_sections": true,
   "sideBar": true,
   "skip_h1_title": false,
   "title_cell": "Table of Contents",
   "title_sidebar": "Contents",
   "toc_cell": false,
   "toc_position": {},
   "toc_section_display": true,
   "toc_window_display": false
  }
 },
 "nbformat": 4,
 "nbformat_minor": 4
}
